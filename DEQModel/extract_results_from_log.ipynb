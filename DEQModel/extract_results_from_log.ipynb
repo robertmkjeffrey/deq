{
 "cells": [
  {
   "cell_type": "code",
   "execution_count": null,
   "metadata": {},
   "outputs": [],
   "source": [
    "import re\n",
    "import os\n",
    "import csv\n",
    "\n",
    "# Path to a log to analyse. \n",
    "log_path = 'LM-TREdeq-ptb/original_trellisnet_ptb_6_log.txt'\n",
    "\n",
    "evals = [\"Validation Perplexity\"]\n",
    "times = [\"Total Runtime\"]\n",
    "epochs = [\"Epoch\"]\n",
    "\n",
    "if not os.path.isfile(log_path):\n",
    "    log_path = os.path.join(log_path, \"log.txt\")\n",
    "    \n",
    "with open(log_path, \"r\") as f:\n",
    "    lines = f.readlines()\n",
    "    for line in lines:\n",
    "        if line[:6] == \"| Eval\":\n",
    "            evals.append(float(re.search('valid ppl (.*)\\n', line).group(1)))\n",
    "        if line[:7] == \"| Time:\":\n",
    "            times.append(float(re.search('Time: (.*)\\n', line).group(1)))\n",
    "        if line[:13] == \"| Total time:\":\n",
    "            times.append(float(re.search('Total time: (.*)\\n', line).group(1)))\n",
    "\n",
    "epochs += range(1, len(times))\n",
    "            \n",
    "# Write training log to same folder as original log\n",
    "with open(os.path.join(os.path.dirname(log_path), \"results.csv\"), \"w\") as f:\n",
    "    writer = csv.writer(f)\n",
    "    # Enforce 190 epoch limit\n",
    "    writer.writerows(list(zip(epochs[:190], evals[:190], times[:190])))\n"
   ]
  },
  {
   "cell_type": "code",
   "execution_count": null,
   "metadata": {},
   "outputs": [],
   "source": [
    "epoch=72\n",
    "i = epoch - 1\n",
    "print(f'Epoch: {epochs[i]}, val ppl: {evals[i]}, total time: {times[i]}')"
   ]
  },
  {
   "cell_type": "code",
   "execution_count": null,
   "metadata": {},
   "outputs": [],
   "source": [
    "import matplotlib.pyplot as plt\n",
    "\n",
    "steps_per_epoch = 265\n",
    "\n",
    "plt.plot(epochs[1:], evals[1:])\n",
    "plt.title(\"Training Performance across Epochs\")\n",
    "plt.xlabel(\"Epochs\")\n",
    "plt.ylabel(\"Validation Perplexity\")\n",
    "plt.vlines([2000/steps_per_epoch, 15000/steps_per_epoch, 30000/steps_per_epoch, 50000/steps_per_epoch], 70, 250, colors='g')\n",
    "plt.hlines([75], 0, 50000/steps_per_epoch, colors='r')"
   ]
  }
 ],
 "metadata": {
  "kernelspec": {
   "display_name": "Python 3",
   "language": "python",
   "name": "python3"
  },
  "language_info": {
   "codemirror_mode": {
    "name": "ipython",
    "version": 3
   },
   "file_extension": ".py",
   "mimetype": "text/x-python",
   "name": "python",
   "nbconvert_exporter": "python",
   "pygments_lexer": "ipython3",
   "version": "3.8.5"
  }
 },
 "nbformat": 4,
 "nbformat_minor": 4
}
