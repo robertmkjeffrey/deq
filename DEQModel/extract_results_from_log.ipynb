{
 "cells": [
  {
   "cell_type": "code",
   "execution_count": 5,
   "metadata": {},
   "outputs": [],
   "source": [
    "import re\n",
    "import os\n",
    "import csv\n",
    "\n",
    "working_dir = 'LM-TREdeq-ptb/40d_2kl_unrolled_1/'\n",
    "\n",
    "evals = [\"Validation Perplexity\"]\n",
    "times = [\"Total Runtime\"]\n",
    "epochs = [\"Epoch\"]\n",
    "\n",
    "with open(os.path.join(working_dir, \"log.txt\"), \"r\") as f:\n",
    "    lines = f.readlines()\n",
    "    for line in lines:\n",
    "        if line[:6] == \"| Eval\":\n",
    "            evals.append(float(re.search('valid ppl (.*)\\n', line).group(1)))\n",
    "        if line[:7] == \"| Time:\":\n",
    "            times.append(float(re.search('Time: (.*)\\n', line).group(1)))\n",
    "\n",
    "epochs += range(1, len(times)+1)\n",
    "            \n",
    "# Write training log\n",
    "with open(os.path.join(working_dir, \"results.csv\"), \"w\") as f:\n",
    "    writer = csv.writer(f)\n",
    "    # Enforce 190 epoch limit\n",
    "    writer.writerows(list(zip(epochs[:190], evals[:190], times[:190])))\n"
   ]
  },
  {
   "cell_type": "code",
   "execution_count": 3,
   "metadata": {},
   "outputs": [
    {
     "name": "stdout",
     "output_type": "stream",
     "text": [
      "Epoch: 71, val ppl: 81.598, total time: 85976.18\n"
     ]
    }
   ],
   "source": [
    "epoch=72\n",
    "i = epoch - 1\n",
    "print(f'Epoch: {epochs[i]}, val ppl: {evals[i]}, total time: {times[i]}')"
   ]
  }
 ],
 "metadata": {
  "kernelspec": {
   "display_name": "Python 3",
   "language": "python",
   "name": "python3"
  },
  "language_info": {
   "codemirror_mode": {
    "name": "ipython",
    "version": 3
   },
   "file_extension": ".py",
   "mimetype": "text/x-python",
   "name": "python",
   "nbconvert_exporter": "python",
   "pygments_lexer": "ipython3",
   "version": "3.8.5"
  }
 },
 "nbformat": 4,
 "nbformat_minor": 4
}
