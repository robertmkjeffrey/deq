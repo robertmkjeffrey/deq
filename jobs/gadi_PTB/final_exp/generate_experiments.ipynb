{
 "cells": [
  {
   "cell_type": "code",
   "execution_count": 1,
   "id": "c3d420d7",
   "metadata": {},
   "outputs": [],
   "source": [
    "RUNS = [2]\n",
    "LENGTHS = [2000, 10000, 20000, 30000]\n",
    "DEPTHS = [3, 20, 40]\n",
    "\n"
   ]
  },
  {
   "cell_type": "code",
   "execution_count": 7,
   "id": "e10ad394",
   "metadata": {},
   "outputs": [],
   "source": [
    "from string import Template\n",
    "EXP_NAME_TEMP = Template(\"${DEPTH}d_${LENGTH_K}kl_${COUNT}\")\n",
    "\n",
    "JOB_FILE_TEMP = Template(\"\"\"#!/bin/bash\n",
    "\n",
    "#PBS -P ll21\n",
    "#PBS -q gpuvolta\n",
    "#PBS -l ncpus=12\n",
    "#PBS -l ngpus=1\n",
    "#PBS -l walltime=5:00:00\n",
    "#PBS -l mem=12GB\n",
    "#PBS -l wd\n",
    "#PBS -l storage=gdata/ll21\n",
    "\n",
    "./${EXP_NAME}.sh\"\"\")\n",
    "\n",
    "SHELL_FILE_TEMP = Template(\"\"\"#!/bin/bash\n",
    "# Experiment Pipeline\n",
    "# Robert Jeffrey <robert.jeffrey@anu.edu.au>\n",
    "\n",
    "DEQ_DIR=\"/g/data1a/ll21/deq/DEQModel\"\n",
    "\n",
    "eval \"$$(/home/659/rj4139/miniconda3/bin/conda shell.bash hook)\"\n",
    "conda activate honours\n",
    "\n",
    "cd $${DEQ_DIR}\n",
    "bash $${DEQ_DIR}/run_trellisnet_experiment.sh train --name ${EXP_NAME} --n_layer ${DEPTH} --pretrain_steps ${LENGTH} --seed ${COUNT}00 --timing --time_limit 16000 --force-deq-validation\n",
    "\"\"\")"
   ]
  },
  {
   "cell_type": "code",
   "execution_count": 13,
   "id": "174b4781",
   "metadata": {},
   "outputs": [],
   "source": [
    "for run in RUNS:\n",
    "    for length in LENGTHS:\n",
    "        for depth in DEPTHS:\n",
    "            exp_name = EXP_NAME_TEMP.substitute(DEPTH=depth, LENGTH_K=length//1000, COUNT=run)\n",
    "            job_file = JOB_FILE_TEMP.substitute(EXP_NAME = exp_name)\n",
    "            shell_file = SHELL_FILE_TEMP.substitute(EXP_NAME=exp_name, DEPTH=depth, LENGTH=length, COUNT=run)\n",
    "            \n",
    "            with open(exp_name+\".job\", 'w') as f:\n",
    "                f.write(job_file)\n",
    "            with open(exp_name+\".sh\", 'w') as f:\n",
    "                f.write(shell_file)"
   ]
  }
 ],
 "metadata": {
  "kernelspec": {
   "display_name": "Python 3",
   "language": "python",
   "name": "python3"
  },
  "language_info": {
   "codemirror_mode": {
    "name": "ipython",
    "version": 3
   },
   "file_extension": ".py",
   "mimetype": "text/x-python",
   "name": "python",
   "nbconvert_exporter": "python",
   "pygments_lexer": "ipython3",
   "version": "3.8.8"
  }
 },
 "nbformat": 4,
 "nbformat_minor": 5
}
